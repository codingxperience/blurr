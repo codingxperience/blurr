{
 "cells": [
  {
   "cell_type": "raw",
   "metadata": {},
   "source": [
    "---\n",
    "skip_exec: true\n",
    "---"
   ]
  },
  {
   "cell_type": "code",
   "execution_count": null,
   "metadata": {},
   "outputs": [],
   "source": [
    "# |default_exp text.modeling.question_answering\n",
    "# |default_cls_lvl 3"
   ]
  },
  {
   "cell_type": "code",
   "execution_count": null,
   "metadata": {},
   "outputs": [],
   "source": [
    "# | nbflags skip_exec"
   ]
  },
  {
   "cell_type": "code",
   "execution_count": null,
   "metadata": {},
   "outputs": [],
   "source": [
    "# |hide\n",
    "%reload_ext autoreload\n",
    "%autoreload 2"
   ]
  },
  {
   "cell_type": "markdown",
   "metadata": {},
   "source": [
    "# Modeling\n",
    "\n",
    "> The `text.modeling.question_answering` module contains custom models, loss functions, custom splitters, etc... for question answering tasks"
   ]
  },
  {
   "cell_type": "code",
   "execution_count": null,
   "metadata": {},
   "outputs": [],
   "source": [
    "# |export\n",
    "import os, ast, inspect, warnings\n",
    "from typing import Any, Callable, Dict, List, Optional, Union, Type\n",
    "\n",
    "from datasets import load_metric\n",
    "from fastcore.all import *\n",
    "from fastai.callback.all import *\n",
    "from fastai.data.block import (\n",
    "    DataBlock,\n",
    "    CategoryBlock,\n",
    "    ColReader,\n",
    "    ItemGetter,\n",
    "    ColSplitter,\n",
    "    RandomSplitter,\n",
    ")\n",
    "from fastai.data.core import DataLoader, DataLoaders, TfmdDL\n",
    "from fastai.imports import *\n",
    "from fastai.learner import *\n",
    "from fastai.losses import CrossEntropyLossFlat\n",
    "from fastai.optimizer import Adam, OptimWrapper, params\n",
    "from fastai.torch_core import *\n",
    "from fastai.torch_imports import *\n",
    "from seqeval import metrics as seq_metrics\n",
    "from transformers import AutoModelForQuestionAnswering, PreTrainedModel\n",
    "from transformers.utils import logging as hf_logging\n",
    "\n",
    "from blurr.text.data.core import TextBlock, TextDataLoader, first_blurr_tfm\n",
    "from blurr.text.data.question_answering import (\n",
    "    QAPreprocessor,\n",
    "    QATextInput,\n",
    "    QABatchTokenizeTransform,\n",
    ")\n",
    "from blurr.text.modeling.core import BaseModelCallback, Blearner\n",
    "from blurr.text.utils import get_hf_objects\n",
    "from blurr.utils import PreCalculatedLoss, MultiTargetLoss"
   ]
  },
  {
   "cell_type": "code",
   "execution_count": null,
   "metadata": {},
   "outputs": [],
   "source": [
    "# | hide\n",
    "import pdb\n",
    "\n",
    "from datasets import load_dataset\n",
    "from fastai.data.external import untar_data, URLs\n",
    "from fastcore.test import *\n",
    "from nbdev import nbdev_export\n",
    "from nbdev.showdoc import show_doc\n",
    "from transformers import AutoConfig\n",
    "\n",
    "from blurr.utils import print_versions\n",
    "from blurr.text.modeling.core import BaseModelWrapper, blurr_splitter\n",
    "from blurr.text.utils import BlurrText"
   ]
  },
  {
   "cell_type": "code",
   "execution_count": null,
   "metadata": {},
   "outputs": [],
   "source": [
    "# |export\n",
    "# metrics we'll use in extractive qa\n",
    "squad_metric = load_metric(\"squad\")\n",
    "\n",
    "# silence all the HF warnings\n",
    "warnings.simplefilter(\"ignore\")\n",
    "hf_logging.set_verbosity_error()"
   ]
  },
  {
   "cell_type": "code",
   "execution_count": null,
   "metadata": {},
   "outputs": [
    {
     "name": "stdout",
     "output_type": "stream",
     "text": [
      "What we're running with at the time this documentation was generated:\n",
      "torch: 1.9.0+cu102\n",
      "fastai: 2.7.9\n",
      "transformers: 4.21.2\n"
     ]
    }
   ],
   "source": [
    "# | echo: false\n",
    "NLP = BlurrText()\n",
    "\n",
    "os.environ[\"TOKENIZERS_PARALLELISM\"] = \"false\"\n",
    "print(\"What we're running with at the time this documentation was generated:\")\n",
    "print_versions(\"torch fastai transformers\")"
   ]
  },
  {
   "cell_type": "code",
   "execution_count": null,
   "metadata": {},
   "outputs": [
    {
     "name": "stdout",
     "output_type": "stream",
     "text": [
      "Using GPU #1: GeForce GTX 1080 Ti\n"
     ]
    }
   ],
   "source": [
    "# |hide\n",
    "# |cuda\n",
    "torch.cuda.set_device(1)\n",
    "print(f\"Using GPU #{torch.cuda.current_device()}: {torch.cuda.get_device_name()}\")"
   ]
  },
  {
   "cell_type": "markdown",
   "metadata": {},
   "source": [
    "## Setup\n",
    "\n",
    "We'll use a subset of `squad_v2` to demonstrate how to configure your blurr code for training extractive question answering models. See the `data.question_answering` module if any of this setting up of the `squad_df` below looks unfamiliar to you."
   ]
  },
  {
   "cell_type": "code",
   "execution_count": null,
   "metadata": {},
   "outputs": [
    {
     "name": "stderr",
     "output_type": "stream",
     "text": [
      "Reusing dataset squad (/home/wgilliam/.cache/huggingface/datasets/squad/plain_text/1.0.0/d6ec3ceb99ca480ce37cdd35555d6cb2511d223b9150cce08a837ef62ffea453)\n"
     ]
    },
    {
     "data": {
      "application/json": {
       "ascii": false,
       "bar_format": null,
       "colour": null,
       "elapsed": 0.021311044692993164,
       "initial": 0,
       "n": 0,
       "ncols": null,
       "nrows": null,
       "postfix": null,
       "prefix": "",
       "rate": null,
       "total": 2,
       "unit": "it",
       "unit_divisor": 1000,
       "unit_scale": false
      },
      "application/vnd.jupyter.widget-view+json": {
       "model_id": "122dcdada93543d98bf9200b548802cb",
       "version_major": 2,
       "version_minor": 0
      },
      "text/plain": [
       "  0%|          | 0/2 [00:00<?, ?it/s]"
      ]
     },
     "metadata": {},
     "output_type": "display_data"
    },
    {
     "name": "stdout",
     "output_type": "stream",
     "text": [
      "1200\n"
     ]
    }
   ],
   "source": [
    "raw_datasets = load_dataset(\"squad\", split=[\"train[:1000]\", \"validation[:200]\"])\n",
    "\n",
    "raw_train_df = pd.DataFrame(raw_datasets[0])\n",
    "raw_valid_df = pd.DataFrame(raw_datasets[1])\n",
    "\n",
    "raw_train_df[\"is_valid\"] = False\n",
    "raw_valid_df[\"is_valid\"] = True\n",
    "\n",
    "squad_df = pd.concat([raw_train_df, raw_valid_df])\n",
    "\n",
    "squad_df[\"ans_start_char_idx\"] = squad_df.answers.apply(\n",
    "    lambda v: v[\"answer_start\"][0] if len(v[\"answer_start\"]) > 0 else \"0\"\n",
    ")\n",
    "squad_df[\"answer_text\"] = squad_df.answers.apply(\n",
    "    lambda v: v[\"text\"][0] if len(v[\"text\"]) > 0 else \"\"\n",
    ")\n",
    "squad_df[\"ans_end_char_idx\"] = (\n",
    "    squad_df[\"ans_start_char_idx\"].astype(int) + squad_df[\"answer_text\"].str.len()\n",
    ")\n",
    "\n",
    "print(len(squad_df))"
   ]
  },
  {
   "cell_type": "code",
   "execution_count": null,
   "metadata": {},
   "outputs": [],
   "source": [
    "model_cls = AutoModelForQuestionAnswering\n",
    "hf_logging.set_verbosity_error()\n",
    "\n",
    "pretrained_model_name = \"bert-large-uncased-whole-word-masking-finetuned-squad\"\n",
    "hf_arch, hf_config, hf_tokenizer, hf_model = get_hf_objects(\n",
    "    pretrained_model_name, model_cls=model_cls\n",
    ")\n",
    "\n",
    "max_seq_len = 128\n",
    "vocab = dict(enumerate(range(max_seq_len)))"
   ]
  },
  {
   "cell_type": "code",
   "execution_count": null,
   "metadata": {},
   "outputs": [
    {
     "data": {
      "text/html": [
       "<div>\n",
       "<style scoped>\n",
       "    .dataframe tbody tr th:only-of-type {\n",
       "        vertical-align: middle;\n",
       "    }\n",
       "\n",
       "    .dataframe tbody tr th {\n",
       "        vertical-align: top;\n",
       "    }\n",
       "\n",
       "    .dataframe thead th {\n",
       "        text-align: right;\n",
       "    }\n",
       "</style>\n",
       "<table border=\"1\" class=\"dataframe\">\n",
       "  <thead>\n",
       "    <tr style=\"text-align: right;\">\n",
       "      <th></th>\n",
       "      <th>id</th>\n",
       "      <th>title</th>\n",
       "      <th>context</th>\n",
       "      <th>question</th>\n",
       "      <th>answers</th>\n",
       "      <th>is_valid</th>\n",
       "      <th>ans_start_char_idx</th>\n",
       "      <th>answer_text</th>\n",
       "      <th>ans_end_char_idx</th>\n",
       "      <th>proc_question</th>\n",
       "      <th>proc_context</th>\n",
       "      <th>ans_start_token_idx</th>\n",
       "      <th>ans_end_token_idx</th>\n",
       "      <th>is_answerable</th>\n",
       "    </tr>\n",
       "  </thead>\n",
       "  <tbody>\n",
       "    <tr>\n",
       "      <th>0</th>\n",
       "      <td>5733be284776f41900661182</td>\n",
       "      <td>University_of_Notre_Dame</td>\n",
       "      <td>Architecturally, the school has a Catholic character. Atop the Main Building's gold dome is a golden statue of the Virgin Mary. Immediately in front of the Main Building and facing it, is a copper statue of Christ with arms upraised with the legend \"Venite Ad Me Omnes\". Next to the Main Building is the Basilica of the Sacred Heart. Immediately behind the basilica is the Grotto, a Marian place of prayer and reflection. It is a replica of the grotto at Lourdes, France where the Virgin Mary reputedly appeared to Saint Bernadette Soubirous in 1858. At the end of the main drive (and in a direct...</td>\n",
       "      <td>To whom did the Virgin Mary allegedly appear in 1858 in Lourdes France?</td>\n",
       "      <td>{'text': ['Saint Bernadette Soubirous'], 'answer_start': [515]}</td>\n",
       "      <td>False</td>\n",
       "      <td>515</td>\n",
       "      <td>Saint Bernadette Soubirous</td>\n",
       "      <td>541</td>\n",
       "      <td>To whom did the Virgin Mary allegedly appear in 1858 in Lourdes France?</td>\n",
       "      <td>Architecturally, the school has a Catholic character. Atop the Main Building's gold dome is a golden statue of the Virgin Mary. Immediately in front of the Main Building and facing it, is a copper statue of Christ with arms upraised with the legend \"Venite Ad Me Omnes\". Next to the Main Building is the Basilica of the Sacred Heart. Immediately behind the basilica is the Grotto, a Marian place of prayer and reflection. It is a replica of the grotto at Lourdes, France where the Virgin Mary reputed</td>\n",
       "      <td>0</td>\n",
       "      <td>0</td>\n",
       "      <td>False</td>\n",
       "    </tr>\n",
       "  </tbody>\n",
       "</table>\n",
       "</div>"
      ],
      "text/plain": [
       "                         id                     title  \\\n",
       "0  5733be284776f41900661182  University_of_Notre_Dame   \n",
       "\n",
       "                                                                                                                                                                                                                                                                                                                                                                                                                                                                                                                                                                                                                   context  \\\n",
       "0  Architecturally, the school has a Catholic character. Atop the Main Building's gold dome is a golden statue of the Virgin Mary. Immediately in front of the Main Building and facing it, is a copper statue of Christ with arms upraised with the legend \"Venite Ad Me Omnes\". Next to the Main Building is the Basilica of the Sacred Heart. Immediately behind the basilica is the Grotto, a Marian place of prayer and reflection. It is a replica of the grotto at Lourdes, France where the Virgin Mary reputedly appeared to Saint Bernadette Soubirous in 1858. At the end of the main drive (and in a direct...   \n",
       "\n",
       "                                                                  question  \\\n",
       "0  To whom did the Virgin Mary allegedly appear in 1858 in Lourdes France?   \n",
       "\n",
       "                                                           answers  is_valid  \\\n",
       "0  {'text': ['Saint Bernadette Soubirous'], 'answer_start': [515]}     False   \n",
       "\n",
       "   ans_start_char_idx                 answer_text  ans_end_char_idx  \\\n",
       "0                 515  Saint Bernadette Soubirous               541   \n",
       "\n",
       "                                                             proc_question  \\\n",
       "0  To whom did the Virgin Mary allegedly appear in 1858 in Lourdes France?   \n",
       "\n",
       "                                                                                                                                                                                                                                                                                                                                                                                                                                                                                                           proc_context  \\\n",
       "0  Architecturally, the school has a Catholic character. Atop the Main Building's gold dome is a golden statue of the Virgin Mary. Immediately in front of the Main Building and facing it, is a copper statue of Christ with arms upraised with the legend \"Venite Ad Me Omnes\". Next to the Main Building is the Basilica of the Sacred Heart. Immediately behind the basilica is the Grotto, a Marian place of prayer and reflection. It is a replica of the grotto at Lourdes, France where the Virgin Mary reputed   \n",
       "\n",
       "   ans_start_token_idx  ans_end_token_idx  is_answerable  \n",
       "0                    0                  0          False  "
      ]
     },
     "execution_count": null,
     "metadata": {},
     "output_type": "execute_result"
    }
   ],
   "source": [
    "preprocessor = QAPreprocessor(\n",
    "    hf_tokenizer,\n",
    "    id_attr=\"id\",\n",
    "    tok_kwargs={\n",
    "        \"return_overflowing_tokens\": True,\n",
    "        \"max_length\": max_seq_len,\n",
    "        \"stride\": 64,\n",
    "    },\n",
    ")\n",
    "\n",
    "proc_df = preprocessor.process_df(squad_df)\n",
    "proc_df.head(1)"
   ]
  },
  {
   "cell_type": "code",
   "execution_count": null,
   "metadata": {},
   "outputs": [],
   "source": [
    "before_batch_tfm = QABatchTokenizeTransform(\n",
    "    hf_arch, hf_config, hf_tokenizer, hf_model, max_length=max_seq_len\n",
    ")\n",
    "\n",
    "blocks = (\n",
    "    TextBlock(batch_tokenize_tfm=before_batch_tfm, input_return_type=QATextInput),\n",
    "    CategoryBlock(vocab=vocab),\n",
    "    CategoryBlock(vocab=vocab),\n",
    ")\n",
    "\n",
    "# since its preprocessed, we include an \"text\" key with the values of our question and context\n",
    "def get_x(item):\n",
    "    return {\"text\": (item.proc_question, item.proc_context), \"id\": item.id}\n",
    "\n",
    "\n",
    "dblock = DataBlock(\n",
    "    blocks=blocks,\n",
    "    get_x=get_x,\n",
    "    get_y=[ItemGetter(\"ans_start_token_idx\"), ItemGetter(\"ans_end_token_idx\")],\n",
    "    splitter=ColSplitter(),\n",
    "    n_inp=1,\n",
    ")"
   ]
  },
  {
   "cell_type": "code",
   "execution_count": null,
   "metadata": {},
   "outputs": [],
   "source": [
    "dls = dblock.dataloaders(proc_df, bs=4)"
   ]
  },
  {
   "cell_type": "code",
   "execution_count": null,
   "metadata": {},
   "outputs": [
    {
     "data": {
      "text/plain": [
       "(2,\n",
       " [0, 1, 2, 3, 4, 5, 6, 7, 8, 9, 10, 11, 12, 13, 14, 15, 16, 17, 18, 19, 20, 21, 22, 23, 24, 25, 26, 27, 28, 29, 30, 31, 32, 33, 34, 35, 36, 37, 38, 39, 40, 41, 42, 43, 44, 45, 46, 47, 48, 49, 50, 51, 52, 53, 54, 55, 56, 57, 58, 59, 60, 61, 62, 63, 64, 65, 66, 67, 68, 69, 70, 71, 72, 73, 74, 75, 76, 77, 78, 79, 80, 81, 82, 83, 84, 85, 86, 87, 88, 89, 90, 91, 92, 93, 94, 95, 96, 97, 98, 99, 100, 101, 102, 103, 104, 105, 106, 107, 108, 109, 110, 111, 112, 113, 114, 115, 116, 117, 118, 119, 120, 121, 122, 123, 124, 125, 126, 127],\n",
       " [0, 1, 2, 3, 4, 5, 6, 7, 8, 9, 10, 11, 12, 13, 14, 15, 16, 17, 18, 19, 20, 21, 22, 23, 24, 25, 26, 27, 28, 29, 30, 31, 32, 33, 34, 35, 36, 37, 38, 39, 40, 41, 42, 43, 44, 45, 46, 47, 48, 49, 50, 51, 52, 53, 54, 55, 56, 57, 58, 59, 60, 61, 62, 63, 64, 65, 66, 67, 68, 69, 70, 71, 72, 73, 74, 75, 76, 77, 78, 79, 80, 81, 82, 83, 84, 85, 86, 87, 88, 89, 90, 91, 92, 93, 94, 95, 96, 97, 98, 99, 100, 101, 102, 103, 104, 105, 106, 107, 108, 109, 110, 111, 112, 113, 114, 115, 116, 117, 118, 119, 120, 121, 122, 123, 124, 125, 126, 127])"
      ]
     },
     "execution_count": null,
     "metadata": {},
     "output_type": "execute_result"
    }
   ],
   "source": [
    "len(dls.vocab), dls.vocab[0], dls.vocab[1]"
   ]
  },
  {
   "cell_type": "code",
   "execution_count": null,
   "metadata": {},
   "outputs": [
    {
     "data": {
      "text/html": [
       "<table border=\"1\" class=\"dataframe\">\n",
       "  <thead>\n",
       "    <tr style=\"text-align: right;\">\n",
       "      <th></th>\n",
       "      <th>text</th>\n",
       "      <th>found</th>\n",
       "      <th>start/end</th>\n",
       "      <th>answer</th>\n",
       "    </tr>\n",
       "  </thead>\n",
       "  <tbody>\n",
       "    <tr>\n",
       "      <th>0</th>\n",
       "      <td>which nfl team represented the afc at super bowl 50? super bowl 50 was an american football game to determine the champion of the national football league ( nfl ) for the 2015 season. the american football conference ( afc ) champion denver broncos defeated the national football conference ( nfc ) champion carolina panthers 24 – 10 to earn their third super bowl title. the game was played on february 7, 2016, at levi's stadium in the san francisco bay area at santa clara, california. as this was the 50th super bowl, the league emphasized the \" golden anniversary \" with various gold - themed initiatives, as well as temporarily suspending the</td>\n",
       "      <td>True</td>\n",
       "      <td>(46, 48)</td>\n",
       "      <td>denver broncos</td>\n",
       "    </tr>\n",
       "    <tr>\n",
       "      <th>1</th>\n",
       "      <td>which nfl team represented the afc at super bowl 50? earn their third super bowl title. the game was played on february 7, 2016, at levi's stadium in the san francisco bay area at santa clara, california. as this was the 50th super bowl, the league emphasized the \" golden anniversary \" with various gold - themed initiatives, as well as temporarily suspending the tradition of naming each super bowl game with roman numerals ( under which the game would have been known as \" super bowl l \" ), so that the logo could prominently feature the arabic numerals 50.</td>\n",
       "      <td>False</td>\n",
       "      <td>(0, 0)</td>\n",
       "      <td></td>\n",
       "    </tr>\n",
       "  </tbody>\n",
       "</table>"
      ],
      "text/plain": [
       "<IPython.core.display.HTML object>"
      ]
     },
     "metadata": {},
     "output_type": "display_data"
    }
   ],
   "source": [
    "dls.valid.show_batch(dataloaders=dls, max_n=2)"
   ]
  },
  {
   "cell_type": "markdown",
   "metadata": {},
   "source": [
    "## Mid-level API"
   ]
  },
  {
   "cell_type": "markdown",
   "metadata": {},
   "source": [
    "### `QAModelCallback` -"
   ]
  },
  {
   "cell_type": "code",
   "execution_count": null,
   "metadata": {},
   "outputs": [],
   "source": [
    "# |export\n",
    "class QAModelCallback(BaseModelCallback):\n",
    "    \"\"\"The prediction is a combination start/end logits\"\"\"\n",
    "\n",
    "    def after_pred(self):\n",
    "        super().after_pred()\n",
    "        self.learn.pred = (self.pred.start_logits, self.pred.end_logits)"
   ]
  },
  {
   "cell_type": "markdown",
   "metadata": {},
   "source": [
    "Here we create a question/answer specific subclass of `BaseModelCallback` in order to get all the start and end prediction."
   ]
  },
  {
   "cell_type": "markdown",
   "metadata": {},
   "source": [
    "### `QAMetricsCallback` -"
   ]
  },
  {
   "cell_type": "code",
   "execution_count": null,
   "metadata": {},
   "outputs": [],
   "source": [
    "# |export\n",
    "class QAMetricsCallback(Callback):\n",
    "    def __init__(\n",
    "        self,\n",
    "        compute_metrics_func,\n",
    "        validation_ds,\n",
    "        qa_metrics=[\"exact_match\", \"f1\"],\n",
    "        **kwargs\n",
    "    ):\n",
    "        self.run_before = Recorder\n",
    "\n",
    "        store_attr()\n",
    "        self.custom_metrics_dict = {k: None for k in qa_metrics}\n",
    "        self.do_setup = True\n",
    "\n",
    "    def setup(self):\n",
    "        # one time setup code here.\n",
    "        if not self.do_setup:\n",
    "            return\n",
    "\n",
    "        # grab the hf_tokenizer from the TokenClassBatchTokenizeTransform\n",
    "        tfm = first_blurr_tfm(self.learn.dls, tfms=[QABatchTokenizeTransform])\n",
    "        self.hf_tokenizer = tfm.hf_tokenizer\n",
    "        self.tok_kwargs = tfm.tok_kwargs\n",
    "\n",
    "        # add custom question answering specific metrics\n",
    "        custom_metrics = L(\n",
    "            [\n",
    "                ValueMetric(partial(self.metric_value, metric_key=k), k)\n",
    "                for k in self.qa_metrics\n",
    "            ]\n",
    "        )\n",
    "        self.learn.metrics = self.learn.metrics + custom_metrics\n",
    "\n",
    "        self.do_setup = False\n",
    "\n",
    "    def before_fit(self):\n",
    "        self.setup()\n",
    "\n",
    "    # --- batch before/after phases ---\n",
    "    def before_batch(self):\n",
    "        if self.training or self.learn.y is None:\n",
    "            return\n",
    "\n",
    "        self.batch_inputs = {\n",
    "            k: v.cpu().detach().numpy() if isinstance(v, Tensor) else v\n",
    "            for k, v in self.x.items()\n",
    "        }\n",
    "\n",
    "    def after_batch(self):\n",
    "        if self.training or self.learn.y is None:\n",
    "            return\n",
    "\n",
    "        for i in range(len(self.batch_inputs[\"input_ids\"])):\n",
    "            batch_inps = {k: self.batch_inputs[k][i] for k in self.batch_inputs.keys()}\n",
    "            self.results.append(\n",
    "                {\n",
    "                    **batch_inps,\n",
    "                    \"start_logits\": self.pred[0][i].cpu().detach().numpy(),\n",
    "                    \"end_logits\": self.pred[1][i].cpu().detach().numpy(),\n",
    "                }\n",
    "            )\n",
    "\n",
    "    # --- validation begin/after phases ---\n",
    "    def before_validate(self):\n",
    "        self.results = []\n",
    "\n",
    "    def after_validate(self):\n",
    "        if len(self.results) < 1:\n",
    "            return\n",
    "\n",
    "        metric_vals_d = self.compute_metrics_func(\n",
    "            self.results, self.validation_ds, self.hf_tokenizer, self.tok_kwargs\n",
    "        )\n",
    "        for k, v in metric_vals_d.items():\n",
    "            self.custom_metrics_dict[k] = v\n",
    "\n",
    "    # --- for ValueMetric metrics ---\n",
    "    def metric_value(self, metric_key):\n",
    "        return self.custom_metrics_dict[metric_key]"
   ]
  },
  {
   "cell_type": "code",
   "execution_count": null,
   "metadata": {},
   "outputs": [],
   "source": [
    "# |export\n",
    "def compute_qa_metrics(\n",
    "    results, dataset, hf_tokenizer, tok_kwargs, id_attr=\"id\", n_best=20\n",
    "):\n",
    "    # what is the max length for our inputs?\n",
    "    max_length = tok_kwargs.get(\"max_length\", hf_tokenizer.model_max_length)\n",
    "\n",
    "    # map examples to chunks indicies that are part of the\n",
    "    example_to_chunks = collections.defaultdict(list)\n",
    "    for idx, chunk in enumerate(results):\n",
    "        example_to_chunks[chunk[id_attr]].append(idx)\n",
    "\n",
    "    predicted_answers = []\n",
    "    for item_idx, item in enumerate(dataset):\n",
    "        example_id = item[id_attr]\n",
    "\n",
    "        answers = []\n",
    "        for chunk_idx in example_to_chunks[example_id]:\n",
    "            chunk = results[chunk_idx]\n",
    "            input_ids = chunk[\"input_ids\"]\n",
    "            start_logits = chunk[\"start_logits\"]\n",
    "            end_logits = chunk[\"end_logits\"]\n",
    "\n",
    "            start_indexes = np.argsort(start_logits)[-1 : -n_best - 1 : -1].tolist()\n",
    "            end_indexes = np.argsort(end_logits)[-1 : -n_best - 1 : -1].tolist()\n",
    "\n",
    "            for s_idx, start_index in enumerate(start_indexes):\n",
    "                for e_idx, end_index in enumerate(end_indexes):\n",
    "                    # Skip answers that are not fully in the context\n",
    "                    if start_index == 0 and end_index == 0:\n",
    "                        continue\n",
    "\n",
    "                    # Skip answers with a length that is either < 0 or > max_answer_length\n",
    "                    if (\n",
    "                        end_index < start_index\n",
    "                        or end_index - start_index + 1 > max_length\n",
    "                    ):\n",
    "                        continue\n",
    "\n",
    "                    answer = {\n",
    "                        \"text\": hf_tokenizer.decode(\n",
    "                            input_ids[start_index:end_index], skip_special_tokens=True\n",
    "                        ),\n",
    "                        \"logit_score\": start_logits[start_index]\n",
    "                        + end_logits[end_index],\n",
    "                    }\n",
    "                    answers.append(answer)\n",
    "\n",
    "        # select the answer with the best score\n",
    "        if len(answers) > 0:\n",
    "            best_answer = max(answers, key=lambda x: x[\"logit_score\"])\n",
    "            predicted_answers.append(\n",
    "                {\"id\": example_id, \"prediction_text\": best_answer[\"text\"]}\n",
    "            )\n",
    "        else:\n",
    "            predicted_answers.append({\"id\": example_id, \"prediction_text\": \"\"})\n",
    "\n",
    "    ref_answers = [\n",
    "        {\"id\": item[\"id\"], \"answers\": item[\"answers\"]}\n",
    "        for item_idx, item in enumerate(dataset)\n",
    "    ]\n",
    "\n",
    "    metric_vals_d = squad_metric.compute(\n",
    "        predictions=predicted_answers, references=ref_answers\n",
    "    )\n",
    "    return metric_vals_d"
   ]
  },
  {
   "cell_type": "code",
   "execution_count": null,
   "metadata": {},
   "outputs": [
    {
     "data": {
      "text/markdown": [
       "---\n",
       "\n",
       "[source](https://github.com/ohmeow/blurr/tree/master/blob/master/blurr/text/modeling/question_answering.py#L109){target=\"_blank\" style=\"float:right; font-size:smaller\"}\n",
       "\n",
       "### compute_qa_metrics\n",
       "\n",
       ">      compute_qa_metrics (results, dataset, hf_tokenizer, tok_kwargs,\n",
       ">                          id_attr='id', n_best=20)"
      ],
      "text/plain": [
       "---\n",
       "\n",
       "[source](https://github.com/ohmeow/blurr/tree/master/blob/master/blurr/text/modeling/question_answering.py#L109){target=\"_blank\" style=\"float:right; font-size:smaller\"}\n",
       "\n",
       "### compute_qa_metrics\n",
       "\n",
       ">      compute_qa_metrics (results, dataset, hf_tokenizer, tok_kwargs,\n",
       ">                          id_attr='id', n_best=20)"
      ]
     },
     "execution_count": null,
     "metadata": {},
     "output_type": "execute_result"
    }
   ],
   "source": [
    "show_doc(compute_qa_metrics, title_level=3)"
   ]
  },
  {
   "cell_type": "markdown",
   "metadata": {},
   "source": [
    "### `PreCalculatedQALoss` -"
   ]
  },
  {
   "cell_type": "code",
   "execution_count": null,
   "metadata": {},
   "outputs": [],
   "source": [
    "# |export\n",
    "class PreCalculatedQALoss(PreCalculatedLoss):\n",
    "    def __init__(self, *args, axis=-1, **kwargs):\n",
    "        super().__init__(nn.CrossEntropyLoss, *args, axis=axis, **kwargs)\n",
    "\n",
    "    def __call__(self, inp, targ, targ2, **kwargs):\n",
    "        return tensor(0.0)\n",
    "\n",
    "    def decodes(self, x):\n",
    "        return x[0].argmax(dim=self.axis), x[1].argmax(dim=self.axis)\n",
    "\n",
    "    def activation(self, x):\n",
    "        return F.softmax(x[0], dim=self.axis), F.softmax(x[1], dim=self.axis)"
   ]
  },
  {
   "cell_type": "markdown",
   "metadata": {},
   "source": [
    "Hugging Face question answering models will calculate the loss for you when you include both the `start_positions` and `end_positions` in the inputs dictionary.  This is done by the `QABatchTokenizeTransform` when `include_labels` = True (which is the default).  This also requires fastai developers to set their `Learner`'s loss function to the `PreCalculatedQALoss` for training to work properly."
   ]
  },
  {
   "cell_type": "markdown",
   "metadata": {},
   "source": [
    "### Example\n",
    "\n",
    "Notice below how I had to define the loss function *after* creating the `Learner` object.  I'm not sure why, but the `MultiTargetLoss` above prohibits the learner from being exported if I do."
   ]
  },
  {
   "cell_type": "markdown",
   "metadata": {},
   "source": [
    "#### Training"
   ]
  },
  {
   "cell_type": "code",
   "execution_count": null,
   "metadata": {},
   "outputs": [],
   "source": [
    "model = BaseModelWrapper(hf_model)\n",
    "learn_cbs = [QAModelCallback]\n",
    "\n",
    "validation_ds = proc_df[proc_df.is_valid == True].to_dict(orient=\"records\")\n",
    "fit_cbs = [\n",
    "    QAMetricsCallback(\n",
    "        compute_metrics_func=compute_qa_metrics, validation_ds=validation_ds\n",
    "    )\n",
    "]\n",
    "\n",
    "learn = Learner(\n",
    "    dls, model, opt_func=partial(Adam), cbs=learn_cbs, splitter=blurr_splitter\n",
    ")\n",
    "\n",
    "learn.loss_func = PreCalculatedQALoss()  # MultiTargetLoss()\n",
    "learn.create_opt()  # -> will create your layer groups based on your \"splitter\" function\n",
    "learn.freeze()"
   ]
  },
  {
   "cell_type": "code",
   "execution_count": null,
   "metadata": {},
   "outputs": [],
   "source": [
    "# | output: false\n",
    "# learn.summary() # no glory here :("
   ]
  },
  {
   "cell_type": "code",
   "execution_count": null,
   "metadata": {},
   "outputs": [
    {
     "name": "stdout",
     "output_type": "stream",
     "text": [
      "3\n"
     ]
    }
   ],
   "source": [
    "print(len(learn.opt.param_groups))"
   ]
  },
  {
   "cell_type": "code",
   "execution_count": null,
   "metadata": {},
   "outputs": [
    {
     "data": {
      "text/html": [
       "\n",
       "<style>\n",
       "    /* Turns off some styling */\n",
       "    progress {\n",
       "        /* gets rid of default border in Firefox and Opera. */\n",
       "        border: none;\n",
       "        /* Needs to be in here for Safari polyfill so background images work as expected. */\n",
       "        background-size: auto;\n",
       "    }\n",
       "    progress:not([value]), progress:not([value])::-webkit-progress-bar {\n",
       "        background: repeating-linear-gradient(45deg, #7e7e7e, #7e7e7e 10px, #5c5c5c 10px, #5c5c5c 20px);\n",
       "    }\n",
       "    .progress-bar-interrupted, .progress-bar-interrupted::-webkit-progress-bar {\n",
       "        background: #F44336;\n",
       "    }\n",
       "</style>\n"
      ],
      "text/plain": [
       "<IPython.core.display.HTML object>"
      ]
     },
     "metadata": {},
     "output_type": "display_data"
    },
    {
     "data": {
      "text/html": [],
      "text/plain": [
       "<IPython.core.display.HTML object>"
      ]
     },
     "metadata": {},
     "output_type": "display_data"
    },
    {
     "data": {
      "text/plain": [
       "SuggestedLRs(minimum=0.003981071710586548, steep=6.918309736647643e-06, valley=0.0014454397605732083, slide=0.0006918309954926372)"
      ]
     },
     "execution_count": null,
     "metadata": {},
     "output_type": "execute_result"
    },
    {
     "data": {
      "image/png": "[encoded data removed]",
      "text/plain": [
       "<Figure size 640x480 with 1 Axes>"
      ]
     },
     "metadata": {},
     "output_type": "display_data"
    }
   ],
   "source": [
    "learn.lr_find(suggest_funcs=[minimum, steep, valley, slide])"
   ]
  },
  {
   "cell_type": "code",
   "execution_count": null,
   "metadata": {},
   "outputs": [
    {
     "data": {
      "text/html": [
       "\n",
       "<style>\n",
       "    /* Turns off some styling */\n",
       "    progress {\n",
       "        /* gets rid of default border in Firefox and Opera. */\n",
       "        border: none;\n",
       "        /* Needs to be in here for Safari polyfill so background images work as expected. */\n",
       "        background-size: auto;\n",
       "    }\n",
       "    progress:not([value]), progress:not([value])::-webkit-progress-bar {\n",
       "        background: repeating-linear-gradient(45deg, #7e7e7e, #7e7e7e 10px, #5c5c5c 10px, #5c5c5c 20px);\n",
       "    }\n",
       "    .progress-bar-interrupted, .progress-bar-interrupted::-webkit-progress-bar {\n",
       "        background: #F44336;\n",
       "    }\n",
       "</style>\n"
      ],
      "text/plain": [
       "<IPython.core.display.HTML object>"
      ]
     },
     "metadata": {},
     "output_type": "display_data"
    },
    {
     "data": {
      "text/html": [
       "<table border=\"1\" class=\"dataframe\">\n",
       "  <thead>\n",
       "    <tr style=\"text-align: left;\">\n",
       "      <th>epoch</th>\n",
       "      <th>train_loss</th>\n",
       "      <th>valid_loss</th>\n",
       "      <th>exact_match</th>\n",
       "      <th>f1</th>\n",
       "      <th>time</th>\n",
       "    </tr>\n",
       "  </thead>\n",
       "  <tbody>\n",
       "    <tr>\n",
       "      <td>0</td>\n",
       "      <td>1.132470</td>\n",
       "      <td>1.128738</td>\n",
       "      <td>79.672131</td>\n",
       "      <td>85.973167</td>\n",
       "      <td>01:29</td>\n",
       "    </tr>\n",
       "  </tbody>\n",
       "</table>"
      ],
      "text/plain": [
       "<IPython.core.display.HTML object>"
      ]
     },
     "metadata": {},
     "output_type": "display_data"
    }
   ],
   "source": [
    "learn.fit_one_cycle(1, lr_max=1e-3, cbs=fit_cbs)"
   ]
  },
  {
   "cell_type": "markdown",
   "metadata": {},
   "source": [
    "#### Showing results\n",
    "\n",
    "And here we create a `@typedispatch`ed implementation of `Learner.show_results` for a more intuitive QA task"
   ]
  },
  {
   "cell_type": "code",
   "execution_count": null,
   "metadata": {},
   "outputs": [],
   "source": [
    "# |export\n",
    "@typedispatch\n",
    "def show_results(\n",
    "    # This typedispatched `show_results` will be called for `QuestionAnswerTextInput` typed inputs\n",
    "    x: QATextInput,\n",
    "    # The targets\n",
    "    y,\n",
    "    # Your raw inputs/targets\n",
    "    samples,\n",
    "    # The model's predictions\n",
    "    outs,\n",
    "    # Your `Learner`. This is required so as to get at the Hugging Face objects for decoding them into\n",
    "    # something understandable\n",
    "    learner,\n",
    "    # Whether you want to remove special tokens during decoding/showing the outputs\n",
    "    skip_special_tokens=True,\n",
    "    # Your `show_results` context\n",
    "    ctxs=None,\n",
    "    # The maximum number of items to show\n",
    "    max_n=6,\n",
    "    # Any truncation your want applied to your decoded inputs\n",
    "    trunc_at=None,\n",
    "    # Any other keyword arguments you want applied to `show_results`\n",
    "    **kwargs\n",
    "):\n",
    "    tfm = first_blurr_tfm(learner.dls, tfms=[QABatchTokenizeTransform])\n",
    "    hf_tokenizer = tfm.hf_tokenizer\n",
    "\n",
    "    res = L()\n",
    "    for sample, input_ids, start, end, pred in zip(samples, x, *y, outs):\n",
    "        txt = hf_tokenizer.decode(sample[0], skip_special_tokens=True)[:trunc_at]\n",
    "        found = start.item() != 0 and end.item() != 0\n",
    "        ans_text = hf_tokenizer.decode(input_ids[start:end], skip_special_tokens=False)\n",
    "\n",
    "        pred_ans_toks = hf_tokenizer.convert_ids_to_tokens(\n",
    "            input_ids, skip_special_tokens=False\n",
    "        )[int(pred[0]) : int(pred[1])]\n",
    "        pred_ans_txt = hf_tokenizer.convert_tokens_to_string(pred_ans_toks)\n",
    "\n",
    "        res.append(\n",
    "            (\n",
    "                txt,\n",
    "                found,\n",
    "                (start.item(), end.item()),\n",
    "                ans_text,\n",
    "                (int(pred[0]), int(pred[1])),\n",
    "                pred_ans_txt,\n",
    "            )\n",
    "        )\n",
    "\n",
    "    display_df(\n",
    "        pd.DataFrame(\n",
    "            res,\n",
    "            columns=[\n",
    "                \"text\",\n",
    "                \"found\",\n",
    "                \"start/end\",\n",
    "                \"answer\",\n",
    "                \"pred start/end\",\n",
    "                \"pred answer\",\n",
    "            ],\n",
    "        )\n",
    "    )\n",
    "    return ctxs"
   ]
  },
  {
   "cell_type": "code",
   "execution_count": null,
   "metadata": {},
   "outputs": [
    {
     "data": {
      "text/html": [
       "\n",
       "<style>\n",
       "    /* Turns off some styling */\n",
       "    progress {\n",
       "        /* gets rid of default border in Firefox and Opera. */\n",
       "        border: none;\n",
       "        /* Needs to be in here for Safari polyfill so background images work as expected. */\n",
       "        background-size: auto;\n",
       "    }\n",
       "    progress:not([value]), progress:not([value])::-webkit-progress-bar {\n",
       "        background: repeating-linear-gradient(45deg, #7e7e7e, #7e7e7e 10px, #5c5c5c 10px, #5c5c5c 20px);\n",
       "    }\n",
       "    .progress-bar-interrupted, .progress-bar-interrupted::-webkit-progress-bar {\n",
       "        background: #F44336;\n",
       "    }\n",
       "</style>\n"
      ],
      "text/plain": [
       "<IPython.core.display.HTML object>"
      ]
     },
     "metadata": {},
     "output_type": "display_data"
    },
    {
     "data": {
      "text/html": [],
      "text/plain": [
       "<IPython.core.display.HTML object>"
      ]
     },
     "metadata": {},
     "output_type": "display_data"
    },
    {
     "data": {
      "text/html": [
       "<table border=\"1\" class=\"dataframe\">\n",
       "  <thead>\n",
       "    <tr style=\"text-align: right;\">\n",
       "      <th></th>\n",
       "      <th>text</th>\n",
       "      <th>found</th>\n",
       "      <th>start/end</th>\n",
       "      <th>answer</th>\n",
       "      <th>pred start/end</th>\n",
       "      <th>pred answer</th>\n",
       "    </tr>\n",
       "  </thead>\n",
       "  <tbody>\n",
       "    <tr>\n",
       "      <th>0</th>\n",
       "      <td>which nfl team represented the afc at super bowl 50? super bowl 50 was an american football game to determine the champion of the national football league ( nfl ) for the 2015 season. the american football conference ( afc ) champion denver broncos defeated the national football conference ( nfc ) champion carolina panthers 24 – 10 to earn their third super bowl title. the game was played on february 7, 2016, at levi's stadium in the san francisco bay area at santa clara, california. as this was</td>\n",
       "      <td>True</td>\n",
       "      <td>(46, 48)</td>\n",
       "      <td>denver broncos</td>\n",
       "      <td>(46, 48)</td>\n",
       "      <td>denver broncos</td>\n",
       "    </tr>\n",
       "    <tr>\n",
       "      <th>1</th>\n",
       "      <td>when did the san francisco bay area last host the super bowl? recent one being super bowl xliv in 2010. the san francisco bay area last hosted in 1985 ( super bowl xix ), held at stanford stadium in stanford, california, won by the home team 49ers. the miami bid depended on whether the stadium underwent renovations. however, on may 3, 2013, the florida legislature refused to approve the funding plan to pay for the renovations, dealing a significant blow to miami's chances.</td>\n",
       "      <td>True</td>\n",
       "      <td>(33, 34)</td>\n",
       "      <td>1985</td>\n",
       "      <td>(33, 34)</td>\n",
       "      <td>1985</td>\n",
       "    </tr>\n",
       "    <tr>\n",
       "      <th>2</th>\n",
       "      <td>where did the spring meetings of the nfl owners take place? on may 21, 2013, nfl owners at their spring meetings in boston voted and awarded the game to levi's stadium. the $ 1. 2 billion stadium opened in 2014. it is the first super bowl held in the san francisco bay area since super bowl xix in 1985, and the first in california since super bowl xxxvii took place in san diego in 2003.</td>\n",
       "      <td>True</td>\n",
       "      <td>(27, 28)</td>\n",
       "      <td>boston</td>\n",
       "      <td>(27, 28)</td>\n",
       "      <td>boston</td>\n",
       "    </tr>\n",
       "    <tr>\n",
       "      <th>3</th>\n",
       "      <td>who was the commissioner of the nfl in 2012? in early 2012, nfl commissioner roger goodell stated that the league planned to make the 50th super bowl \" spectacular \" and that it would be \" an important game for us as a league \".</td>\n",
       "      <td>True</td>\n",
       "      <td>(18, 21)</td>\n",
       "      <td>roger goodell</td>\n",
       "      <td>(18, 21)</td>\n",
       "      <td>roger goodell</td>\n",
       "    </tr>\n",
       "  </tbody>\n",
       "</table>"
      ],
      "text/plain": [
       "<IPython.core.display.HTML object>"
      ]
     },
     "metadata": {},
     "output_type": "display_data"
    }
   ],
   "source": [
    "learn.show_results(learner=learn, skip_special_tokens=True, max_n=4, trunc_at=500)"
   ]
  },
  {
   "cell_type": "code",
   "execution_count": null,
   "metadata": {},
   "outputs": [],
   "source": [
    "learn.unfreeze()"
   ]
  },
  {
   "cell_type": "code",
   "execution_count": null,
   "metadata": {},
   "outputs": [
    {
     "data": {
      "text/html": [
       "\n",
       "<style>\n",
       "    /* Turns off some styling */\n",
       "    progress {\n",
       "        /* gets rid of default border in Firefox and Opera. */\n",
       "        border: none;\n",
       "        /* Needs to be in here for Safari polyfill so background images work as expected. */\n",
       "        background-size: auto;\n",
       "    }\n",
       "    progress:not([value]), progress:not([value])::-webkit-progress-bar {\n",
       "        background: repeating-linear-gradient(45deg, #7e7e7e, #7e7e7e 10px, #5c5c5c 10px, #5c5c5c 20px);\n",
       "    }\n",
       "    .progress-bar-interrupted, .progress-bar-interrupted::-webkit-progress-bar {\n",
       "        background: #F44336;\n",
       "    }\n",
       "</style>\n"
      ],
      "text/plain": [
       "<IPython.core.display.HTML object>"
      ]
     },
     "metadata": {},
     "output_type": "display_data"
    },
    {
     "data": {
      "text/html": [
       "<table border=\"1\" class=\"dataframe\">\n",
       "  <thead>\n",
       "    <tr style=\"text-align: left;\">\n",
       "      <th>epoch</th>\n",
       "      <th>train_loss</th>\n",
       "      <th>valid_loss</th>\n",
       "      <th>exact_match</th>\n",
       "      <th>f1</th>\n",
       "      <th>time</th>\n",
       "    </tr>\n",
       "  </thead>\n",
       "  <tbody>\n",
       "    <tr>\n",
       "      <td>0</td>\n",
       "      <td>0.947245</td>\n",
       "      <td>1.128543</td>\n",
       "      <td>79.672131</td>\n",
       "      <td>85.973167</td>\n",
       "      <td>03:13</td>\n",
       "    </tr>\n",
       "  </tbody>\n",
       "</table>"
      ],
      "text/plain": [
       "<IPython.core.display.HTML object>"
      ]
     },
     "metadata": {},
     "output_type": "display_data"
    }
   ],
   "source": [
    "learn.fit_one_cycle(1, lr_max=slice(1e-9, 1e-7), cbs=fit_cbs)"
   ]
  },
  {
   "cell_type": "code",
   "execution_count": null,
   "metadata": {},
   "outputs": [
    {
     "data": {
      "image/png": "[encoded data removed]",
      "text/plain": [
       "<Figure size 640x480 with 1 Axes>"
      ]
     },
     "metadata": {},
     "output_type": "display_data"
    }
   ],
   "source": [
    "learn.recorder.plot_loss()"
   ]
  },
  {
   "cell_type": "code",
   "execution_count": null,
   "metadata": {},
   "outputs": [
    {
     "data": {
      "text/html": [
       "\n",
       "<style>\n",
       "    /* Turns off some styling */\n",
       "    progress {\n",
       "        /* gets rid of default border in Firefox and Opera. */\n",
       "        border: none;\n",
       "        /* Needs to be in here for Safari polyfill so background images work as expected. */\n",
       "        background-size: auto;\n",
       "    }\n",
       "    progress:not([value]), progress:not([value])::-webkit-progress-bar {\n",
       "        background: repeating-linear-gradient(45deg, #7e7e7e, #7e7e7e 10px, #5c5c5c 10px, #5c5c5c 20px);\n",
       "    }\n",
       "    .progress-bar-interrupted, .progress-bar-interrupted::-webkit-progress-bar {\n",
       "        background: #F44336;\n",
       "    }\n",
       "</style>\n"
      ],
      "text/plain": [
       "<IPython.core.display.HTML object>"
      ]
     },
     "metadata": {},
     "output_type": "display_data"
    },
    {
     "data": {
      "text/html": [],
      "text/plain": [
       "<IPython.core.display.HTML object>"
      ]
     },
     "metadata": {},
     "output_type": "display_data"
    },
    {
     "data": {
      "text/html": [
       "<table border=\"1\" class=\"dataframe\">\n",
       "  <thead>\n",
       "    <tr style=\"text-align: right;\">\n",
       "      <th></th>\n",
       "      <th>text</th>\n",
       "      <th>found</th>\n",
       "      <th>start/end</th>\n",
       "      <th>answer</th>\n",
       "      <th>pred start/end</th>\n",
       "      <th>pred answer</th>\n",
       "    </tr>\n",
       "  </thead>\n",
       "  <tbody>\n",
       "    <tr>\n",
       "      <th>0</th>\n",
       "      <td>which nfl team represented the afc at super bowl 50? super bowl 50 was an american football game to</td>\n",
       "      <td>True</td>\n",
       "      <td>(46, 48)</td>\n",
       "      <td>denver broncos</td>\n",
       "      <td>(46, 48)</td>\n",
       "      <td>denver broncos</td>\n",
       "    </tr>\n",
       "    <tr>\n",
       "      <th>1</th>\n",
       "      <td>what day was the super bowl played on? third super bowl title. the game was played on february 7, 20</td>\n",
       "      <td>True</td>\n",
       "      <td>(21, 25)</td>\n",
       "      <td>february 7, 2016</td>\n",
       "      <td>(21, 23)</td>\n",
       "      <td>february 7</td>\n",
       "    </tr>\n",
       "  </tbody>\n",
       "</table>"
      ],
      "text/plain": [
       "<IPython.core.display.HTML object>"
      ]
     },
     "metadata": {},
     "output_type": "display_data"
    }
   ],
   "source": [
    "learn.show_results(learner=learn, max_n=2, trunc_at=100)"
   ]
  },
  {
   "cell_type": "markdown",
   "metadata": {},
   "source": [
    "#### Prediction\n",
    "\n",
    "Note that there is a bug currently in fastai v2 (or with how I'm assembling everything) that currently prevents us from seeing the decoded predictions and probabilities for the \"end\" token."
   ]
  },
  {
   "cell_type": "code",
   "execution_count": null,
   "metadata": {},
   "outputs": [],
   "source": [
    "# |export\n",
    "@patch\n",
    "def blurr_predict_answers(\n",
    "    self: Learner,\n",
    "    # The str (or list of strings) you want to get token classification predictions for\n",
    "    question_contexts: Union[dict, List[dict]],\n",
    "    # If using a slow tokenizer, users will need to prove a `slow_word_ids_func` that accepts a\n",
    "    # tokenizzer, example index, and a batch encoding as arguments and in turn returnes the\n",
    "    # equavlient of fast tokenizer's `word_ids``\n",
    "    slow_word_ids_func: Optional[Callable] = None,\n",
    "):\n",
    "    if not is_listy(question_contexts):\n",
    "        question_contexts = [question_contexts]\n",
    "\n",
    "    tfm = first_blurr_tfm(self.dls, tfms=[QABatchTokenizeTransform])\n",
    "    hf_tokenizer = tfm.hf_tokenizer\n",
    "    tok_kwargs = tfm.tok_kwargs\n",
    "    tok_kwargs[\"return_overflowing_tokens\"] = True\n",
    "    tok_kwargs[\"truncation\"] = (\n",
    "        \"only_second\" if hf_tokenizer.padding_side == \"right\" else \"only_first\"\n",
    "    )\n",
    "\n",
    "    results = []\n",
    "    for qc in question_contexts:\n",
    "        inps = (\n",
    "            [qc[\"question\"], qc[\"context\"]]\n",
    "            if hf_tokenizer.padding_side == \"right\"\n",
    "            else [qc[\"context\"], qc[\"question\"]]\n",
    "        )\n",
    "\n",
    "        inputs = hf_tokenizer(\n",
    "            *inps,\n",
    "            max_length=tfm.max_length,\n",
    "            padding=tfm.padding,\n",
    "            return_tensors=\"pt\",\n",
    "            **tok_kwargs\n",
    "        )\n",
    "        inputs_offsets = inputs[\"offset_mapping\"]\n",
    "\n",
    "        # run inputs through model\n",
    "        model_inputs = {k: v.to(self.model.hf_model.device) for k, v in inputs.items()}\n",
    "        outputs = self.model(model_inputs)\n",
    "\n",
    "        # grab our start/end logits\n",
    "        start_logits = outputs.start_logits\n",
    "        end_logits = outputs.end_logits\n",
    "\n",
    "        # mask any tokens that shouldn't be considered\n",
    "        seq_ids = inputs.sequence_ids()\n",
    "        # mask question tokens\n",
    "        ignore_mask = [\n",
    "            i != 1 if hf_tokenizer.padding_side == \"right\" else i != 0 for i in seq_ids\n",
    "        ]\n",
    "        # unmask the [CLS] token\n",
    "        ignore_mask[0] = False\n",
    "        # mask all the [PAD] tokens\n",
    "        ignore_mask = torch.logical_or(\n",
    "            torch.tensor(ignore_mask)[None], (inputs[\"attention_mask\"] == 0)\n",
    "        )\n",
    "\n",
    "        start_logits[ignore_mask] = tfm.ignore_token_id\n",
    "        end_logits[ignore_mask] = tfm.ignore_token_id\n",
    "\n",
    "        # grab our start/end probabilities\n",
    "        start_probs = F.softmax(start_logits, dim=-1)\n",
    "        end_probs = F.softmax(end_logits, dim=-1)\n",
    "\n",
    "        # get scores for each chunk\n",
    "        candidates = []\n",
    "        for offset_idx, (chunk_start_probs, chunk_end_probs) in enumerate(\n",
    "            zip(start_probs, end_probs)\n",
    "        ):\n",
    "            scores = chunk_start_probs[:, None] * chunk_end_probs[None, :]\n",
    "            idx = torch.triu(scores).argmax().item()\n",
    "\n",
    "            start_idx = idx // scores.shape[0]\n",
    "            end_idx = idx % scores.shape[0]\n",
    "            score = scores[start_idx, end_idx].item()\n",
    "            candidates.append((offset_idx, start_idx, end_idx, score))\n",
    "\n",
    "        # sort our candidates by score\n",
    "        candidates.sort(key=lambda el: el[3], reverse=True)\n",
    "\n",
    "        # return our best answer\n",
    "        best = candidates[0]\n",
    "        if best[1] == 0 and best[2] == 0:\n",
    "            results.append({\"answer\": None, \"start\": 0, \"end\": 0, \"score\": best[3]})\n",
    "        else:\n",
    "            start_char_idx = inputs_offsets[best[0]][best[1]][0]\n",
    "            end_char_idx = inputs_offsets[best[0]][best[2] - 1][1]\n",
    "            ans = inps[1][start_char_idx:end_char_idx].strip()\n",
    "\n",
    "            results.append(\n",
    "                {\n",
    "                    \"answer\": ans,\n",
    "                    \"start\": start_char_idx.item(),\n",
    "                    \"end\": end_char_idx.item(),\n",
    "                    \"score\": best[3],\n",
    "                }\n",
    "            )\n",
    "\n",
    "    # build our results\n",
    "    return results"
   ]
  },
  {
   "cell_type": "code",
   "execution_count": null,
   "metadata": {},
   "outputs": [
    {
     "data": {
      "text/plain": [
       "[{'answer': 'Star Wars', 'start': 21, 'end': 30, 'score': 0.9519550800323486}]"
      ]
     },
     "execution_count": null,
     "metadata": {},
     "output_type": "execute_result"
    }
   ],
   "source": [
    "context = \"George Lucas created Star Wars in 1977. He directed and produced it.\"\n",
    "\n",
    "learn.blurr_predict_answers(\n",
    "    {\"question\": \"What did George Lucas make?\", \"context\": context}\n",
    ")"
   ]
  },
  {
   "cell_type": "code",
   "execution_count": null,
   "metadata": {},
   "outputs": [
    {
     "data": {
      "text/plain": [
       "[{'answer': 'Star Wars', 'start': 21, 'end': 30, 'score': 0.9519550800323486},\n",
       " {'answer': '1977', 'start': 34, 'end': 38, 'score': 0.8868365287780762},\n",
       " {'answer': 'created Star Wars in 1977. He directed and produced it',\n",
       "  'start': 13,\n",
       "  'end': 67,\n",
       "  'score': 0.17095458507537842},\n",
       " {'answer': 'George Lucas',\n",
       "  'start': 0,\n",
       "  'end': 12,\n",
       "  'score': 0.3317754566669464}]"
      ]
     },
     "execution_count": null,
     "metadata": {},
     "output_type": "execute_result"
    }
   ],
   "source": [
    "context = \"George Lucas created Star Wars in 1977. He directed and produced it.\"\n",
    "\n",
    "learn.blurr_predict_answers(\n",
    "    [\n",
    "        {\"question\": \"What did George Lucas make?\", \"context\": context},\n",
    "        {\"question\": \"What year did Star Wars come out?\", \"context\": context},\n",
    "        {\"question\": \"What did George Lucas do?\", \"context\": context},\n",
    "        {\"question\": \"Who plays Spock in the movie?\", \"context\": context},\n",
    "    ]\n",
    ")"
   ]
  },
  {
   "cell_type": "markdown",
   "metadata": {},
   "source": [
    "#### Inference\n",
    "\n",
    "Note that I had to replace the loss function because of the above-mentioned issue to exporting the model with the `MultiTargetLoss` loss function.  After getting our inference learner, we put it back and we're good to go!"
   ]
  },
  {
   "cell_type": "code",
   "execution_count": null,
   "metadata": {},
   "outputs": [],
   "source": [
    "export_name = \"q_and_a_learn_export\""
   ]
  },
  {
   "cell_type": "code",
   "execution_count": null,
   "metadata": {},
   "outputs": [],
   "source": [
    "learn.loss_func = CrossEntropyLossFlat()\n",
    "learn.export(fname=f\"{export_name}.pkl\")"
   ]
  },
  {
   "cell_type": "code",
   "execution_count": null,
   "metadata": {},
   "outputs": [
    {
     "data": {
      "text/plain": [
       "[{'answer': 'Star Wars', 'start': 21, 'end': 30, 'score': 0.9519549608230591},\n",
       " {'answer': '1977', 'start': 34, 'end': 38, 'score': 0.8868366479873657},\n",
       " {'answer': 'created Star Wars in 1977. He directed and produced it',\n",
       "  'start': 13,\n",
       "  'end': 67,\n",
       "  'score': 0.17095446586608887},\n",
       " {'answer': 'George Lucas',\n",
       "  'start': 0,\n",
       "  'end': 12,\n",
       "  'score': 0.33177539706230164}]"
      ]
     },
     "execution_count": null,
     "metadata": {},
     "output_type": "execute_result"
    }
   ],
   "source": [
    "inf_learn = load_learner(fname=f\"{export_name}.pkl\")\n",
    "inf_learn.loss_func = MultiTargetLoss()\n",
    "\n",
    "context = \"George Lucas created Star Wars in 1977. He directed and produced it.\"\n",
    "\n",
    "inf_learn.blurr_predict_answers(\n",
    "    [\n",
    "        {\"question\": \"What did George Lucas make?\", \"context\": context},\n",
    "        {\"question\": \"What year did Star Wars come out?\", \"context\": context},\n",
    "        {\"question\": \"What did George Lucas do?\", \"context\": context},\n",
    "        {\"question\": \"Who plays Spock in the movie?\", \"context\": context},\n",
    "    ]\n",
    ")"
   ]
  },
  {
   "cell_type": "code",
   "execution_count": null,
   "metadata": {},
   "outputs": [],
   "source": [
    "# |hide\n",
    "try:\n",
    "    del learn\n",
    "    del inf_learn\n",
    "    torch.cuda.empty_cache()\n",
    "except:\n",
    "    pass"
   ]
  },
  {
   "cell_type": "markdown",
   "metadata": {},
   "source": [
    "## High-level API"
   ]
  },
  {
   "cell_type": "markdown",
   "metadata": {},
   "source": [
    "### `BLearnerForQuestionAnswering` -"
   ]
  },
  {
   "cell_type": "code",
   "execution_count": null,
   "metadata": {},
   "outputs": [],
   "source": [
    "# |export\n",
    "@delegates(Blearner.__init__)\n",
    "class BlearnerForQuestionAnswering(Blearner):\n",
    "    def __init__(self, dls: DataLoaders, hf_model: PreTrainedModel, **kwargs):\n",
    "        kwargs[\"loss_func\"] = kwargs.get(\"loss_func\", PreCalculatedQALoss())\n",
    "        super().__init__(dls, hf_model, base_model_cb=QAModelCallback, **kwargs)\n",
    "\n",
    "    @classmethod\n",
    "    def get_model_cls(self):\n",
    "        return AutoModelForQuestionAnswering\n",
    "\n",
    "    @classmethod\n",
    "    def _get_x(cls, x, qst, ctx, id=None, padding_side=\"right\"):\n",
    "        inps = {}\n",
    "        inps[\"text\"] = (\n",
    "            (x[qst], x[ctx]) if (padding_side == \"right\") else (x[ctx], x[qst])\n",
    "        )\n",
    "\n",
    "        if id is not None:\n",
    "            inps[\"id\"] = x[id]\n",
    "\n",
    "        return inps\n",
    "\n",
    "    @classmethod\n",
    "    def from_data(\n",
    "        cls,\n",
    "        # Your raw dataset. Supports DataFrames, Hugging Face Datasets, as well as file paths\n",
    "        # to .csv, .xlsx, .xls, and .jsonl files\n",
    "        data: Union[pd.DataFrame, Path, str, List[Dict]],\n",
    "        # The name or path of the pretrained model you want to fine-tune\n",
    "        pretrained_model_name_or_path: Optional[Union[str, os.PathLike]],\n",
    "        # The maximum sequence length to constrain our data\n",
    "        max_seq_len: int = None,\n",
    "        # The unique identifier in the dataset. If not specified and \"return_overflowing_tokens\": True, an \"_id\" attribute\n",
    "        # will be added to your dataset with its value a unique, sequential integer, assigned to each record\n",
    "        id_attr: Optional[str] = None,\n",
    "        # The attribute in your dataset that contains the context (where the answer is included) (default: 'context')\n",
    "        context_attr: str = \"context\",\n",
    "        # The attribute in your dataset that contains the question being asked (default: 'question')\n",
    "        question_attr: str = \"question\",\n",
    "        # The attribute in your dataset that contains the tokenized answer start (default: 'tok_answer_start')\n",
    "        tok_ans_start_attr: str = \"ans_start_token_idx\",\n",
    "        # The attribute in your dataset that contains the tokenized answer end(default: 'tok_answer_end')\n",
    "        tok_ans_end_attr: str = \"ans_end_token_idx\",\n",
    "        # A function that will split your Dataset into a training and validation set\n",
    "        # See [here](https://docs.fast.ai/data.transforms.html#Split) for a list of fast.ai splitters\n",
    "        dblock_splitter: Optional[Callable] = None,\n",
    "        # Any kwargs to pass to your `DataLoaders`\n",
    "        dl_kwargs={},\n",
    "        # Any kwargs to pass to your task specific `Blearner`\n",
    "        learner_kwargs={},\n",
    "    ):\n",
    "        # if we get a path/str then we're loading something like a .csv file\n",
    "        if isinstance(data, Path) or isinstance(data, str):\n",
    "            content_type = mimetypes.guess_type(data)[0]\n",
    "            if (\n",
    "                content_type\n",
    "                == \"application/vnd.openxmlformats-officedocument.spreadsheetml.sheet\"\n",
    "            ):\n",
    "                data = pd.read_excel(data)\n",
    "            elif content_type == \"text/csv\":\n",
    "                data = pd.read_csv(data)\n",
    "            elif content_type == \"application/json\":\n",
    "                data = pd.read_json(data, orient=\"records\")\n",
    "            else:\n",
    "                raise ValueError(\"'data' must be a .xlsx, .xls, .csv, or .jsonl file\")\n",
    "\n",
    "            data = pd.read_csv(data)\n",
    "\n",
    "        # infer our datablock splitter if None\n",
    "        if dblock_splitter is None:\n",
    "            dblock_splitter = (\n",
    "                ColSplitter() if hasattr(data, \"is_valid\") else RandomSplitter()\n",
    "            )\n",
    "\n",
    "        hf_arch, hf_config, hf_tokenizer, hf_model = get_hf_objects(\n",
    "            pretrained_model_name_or_path, model_cls=cls.get_model_cls()\n",
    "        )\n",
    "\n",
    "        # potentially used by our preprocess_func, it is the basis for our CategoryBlock vocab\n",
    "        if max_seq_len is None:\n",
    "            max_seq_len = hf_config.get(\"max_position_embeddings\", 128)\n",
    "\n",
    "        # bits required by our \"before_batch_tfm\" and DataBlock\n",
    "        vocab = list(range(max_seq_len))\n",
    "        padding_side = hf_tokenizer.padding_side\n",
    "\n",
    "        # define DataBlock and DataLoaders\n",
    "        before_batch_tfm = QABatchTokenizeTransform(\n",
    "            hf_arch, hf_config, hf_tokenizer, hf_model, max_length=max_seq_len\n",
    "        )\n",
    "        blocks = (\n",
    "            TextBlock(\n",
    "                batch_tokenize_tfm=before_batch_tfm, input_return_type=QATextInput\n",
    "            ),\n",
    "            CategoryBlock(vocab=vocab),\n",
    "            CategoryBlock(vocab=vocab),\n",
    "        )\n",
    "        dblock = DataBlock(\n",
    "            blocks=blocks,\n",
    "            get_x=partial(\n",
    "                cls._get_x,\n",
    "                qst=question_attr,\n",
    "                ctx=context_attr,\n",
    "                id=id_attr,\n",
    "                padding_side=padding_side,\n",
    "            ),\n",
    "            get_y=[ItemGetter(tok_ans_start_attr), ItemGetter(tok_ans_end_attr)],\n",
    "            splitter=dblock_splitter,\n",
    "            n_inp=1,\n",
    "        )\n",
    "\n",
    "        dls = dblock.dataloaders(data, **dl_kwargs.copy())\n",
    "\n",
    "        # return BLearner instance\n",
    "        return cls(dls, hf_model, **learner_kwargs.copy())"
   ]
  },
  {
   "cell_type": "markdown",
   "metadata": {},
   "source": [
    "### Example\n",
    "\n",
    "`BLearnerForQuestionAnswering` requires a question, context (within which to find the answer to the question), and the start/end indices of where the answer lies in the *tokenized context*. Because those indices vary by tokenizer, we can pass a `preprocess_func` that will take our raw data, perform any preprocessing we want, and return it in a way that will work for extractive QA."
   ]
  },
  {
   "cell_type": "markdown",
   "metadata": {},
   "source": [
    "#### Preprocess data"
   ]
  },
  {
   "cell_type": "code",
   "execution_count": null,
   "metadata": {},
   "outputs": [
    {
     "name": "stderr",
     "output_type": "stream",
     "text": [
      "Reusing dataset squad (/home/wgilliam/.cache/huggingface/datasets/squad/plain_text/1.0.0/d6ec3ceb99ca480ce37cdd35555d6cb2511d223b9150cce08a837ef62ffea453)\n"
     ]
    },
    {
     "data": {
      "application/json": {
       "ascii": false,
       "bar_format": null,
       "colour": null,
       "elapsed": 0.015659093856811523,
       "initial": 0,
       "n": 0,
       "ncols": null,
       "nrows": null,
       "postfix": null,
       "prefix": "",
       "rate": null,
       "total": 2,
       "unit": "it",
       "unit_divisor": 1000,
       "unit_scale": false
      },
      "application/vnd.jupyter.widget-view+json": {
       "model_id": "12aee8f998674aa290ae5ebe4991874c",
       "version_major": 2,
       "version_minor": 0
      },
      "text/plain": [
       "  0%|          | 0/2 [00:00<?, ?it/s]"
      ]
     },
     "metadata": {},
     "output_type": "display_data"
    },
    {
     "data": {
      "text/html": [
       "<div>\n",
       "<style scoped>\n",
       "    .dataframe tbody tr th:only-of-type {\n",
       "        vertical-align: middle;\n",
       "    }\n",
       "\n",
       "    .dataframe tbody tr th {\n",
       "        vertical-align: top;\n",
       "    }\n",
       "\n",
       "    .dataframe thead th {\n",
       "        text-align: right;\n",
       "    }\n",
       "</style>\n",
       "<table border=\"1\" class=\"dataframe\">\n",
       "  <thead>\n",
       "    <tr style=\"text-align: right;\">\n",
       "      <th></th>\n",
       "      <th>id</th>\n",
       "      <th>title</th>\n",
       "      <th>context</th>\n",
       "      <th>question</th>\n",
       "      <th>answers</th>\n",
       "      <th>is_valid</th>\n",
       "      <th>ans_start_char_idx</th>\n",
       "      <th>answer_text</th>\n",
       "      <th>ans_end_char_idx</th>\n",
       "      <th>proc_question</th>\n",
       "      <th>proc_context</th>\n",
       "      <th>ans_start_token_idx</th>\n",
       "      <th>ans_end_token_idx</th>\n",
       "      <th>is_answerable</th>\n",
       "    </tr>\n",
       "  </thead>\n",
       "  <tbody>\n",
       "    <tr>\n",
       "      <th>0</th>\n",
       "      <td>5733be284776f41900661182</td>\n",
       "      <td>University_of_Notre_Dame</td>\n",
       "      <td>Architecturally, the school has a Catholic character. Atop the Main Building's gold dome is a golden statue of the Virgin Mary. Immediately in front of the Main Building and facing it, is a copper statue of Christ with arms upraised with the legend \"Venite Ad Me Omnes\". Next to the Main Building is the Basilica of the Sacred Heart. Immediately behind the basilica is the Grotto, a Marian place of prayer and reflection. It is a replica of the grotto at Lourdes, France where the Virgin Mary reputedly appeared to Saint Bernadette Soubirous in 1858. At the end of the main drive (and in a direct...</td>\n",
       "      <td>To whom did the Virgin Mary allegedly appear in 1858 in Lourdes France?</td>\n",
       "      <td>{'text': ['Saint Bernadette Soubirous'], 'answer_start': [515]}</td>\n",
       "      <td>False</td>\n",
       "      <td>515</td>\n",
       "      <td>Saint Bernadette Soubirous</td>\n",
       "      <td>541</td>\n",
       "      <td>To whom did the Virgin Mary allegedly appear in 1858 in Lourdes France?</td>\n",
       "      <td>Architecturally, the school has a Catholic character. Atop the Main Building's gold dome is a golden statue of the Virgin Mary. Immediately in front of the Main Building and facing it, is a copper statue of Christ with arms upraised with the legend \"Venite Ad Me Omnes\". Next to the Main Building is the Basilica of the Sacred Heart. Immediately behind the basilica is the Grotto, a Marian place of prayer and reflection. It is a replica of the grotto at Lourdes, France where the Virgin Mary reputed</td>\n",
       "      <td>0</td>\n",
       "      <td>0</td>\n",
       "      <td>False</td>\n",
       "    </tr>\n",
       "  </tbody>\n",
       "</table>\n",
       "</div>"
      ],
      "text/plain": [
       "                         id                     title  \\\n",
       "0  5733be284776f41900661182  University_of_Notre_Dame   \n",
       "\n",
       "                                                                                                                                                                                                                                                                                                                                                                                                                                                                                                                                                                                                                   context  \\\n",
       "0  Architecturally, the school has a Catholic character. Atop the Main Building's gold dome is a golden statue of the Virgin Mary. Immediately in front of the Main Building and facing it, is a copper statue of Christ with arms upraised with the legend \"Venite Ad Me Omnes\". Next to the Main Building is the Basilica of the Sacred Heart. Immediately behind the basilica is the Grotto, a Marian place of prayer and reflection. It is a replica of the grotto at Lourdes, France where the Virgin Mary reputedly appeared to Saint Bernadette Soubirous in 1858. At the end of the main drive (and in a direct...   \n",
       "\n",
       "                                                                  question  \\\n",
       "0  To whom did the Virgin Mary allegedly appear in 1858 in Lourdes France?   \n",
       "\n",
       "                                                           answers  is_valid  \\\n",
       "0  {'text': ['Saint Bernadette Soubirous'], 'answer_start': [515]}     False   \n",
       "\n",
       "   ans_start_char_idx                 answer_text  ans_end_char_idx  \\\n",
       "0                 515  Saint Bernadette Soubirous               541   \n",
       "\n",
       "                                                             proc_question  \\\n",
       "0  To whom did the Virgin Mary allegedly appear in 1858 in Lourdes France?   \n",
       "\n",
       "                                                                                                                                                                                                                                                                                                                                                                                                                                                                                                           proc_context  \\\n",
       "0  Architecturally, the school has a Catholic character. Atop the Main Building's gold dome is a golden statue of the Virgin Mary. Immediately in front of the Main Building and facing it, is a copper statue of Christ with arms upraised with the legend \"Venite Ad Me Omnes\". Next to the Main Building is the Basilica of the Sacred Heart. Immediately behind the basilica is the Grotto, a Marian place of prayer and reflection. It is a replica of the grotto at Lourdes, France where the Virgin Mary reputed   \n",
       "\n",
       "   ans_start_token_idx  ans_end_token_idx  is_answerable  \n",
       "0                    0                  0          False  "
      ]
     },
     "execution_count": null,
     "metadata": {},
     "output_type": "execute_result"
    }
   ],
   "source": [
    "# build our training and validation DataFrames\n",
    "raw_datasets = load_dataset(\"squad\", split=[\"train[:1000]\", \"validation[:200]\"])\n",
    "\n",
    "raw_train_df = pd.DataFrame(raw_datasets[0])\n",
    "raw_valid_df = pd.DataFrame(raw_datasets[1])\n",
    "\n",
    "raw_train_df[\"is_valid\"] = False\n",
    "raw_valid_df[\"is_valid\"] = True\n",
    "\n",
    "# concatenate into a single DataFrame\n",
    "squad_df = pd.concat([raw_train_df, raw_valid_df])\n",
    "\n",
    "# include the required start/end character indicies and full text of the answer\n",
    "squad_df[\"ans_start_char_idx\"] = squad_df.answers.apply(\n",
    "    lambda v: v[\"answer_start\"][0] if len(v[\"answer_start\"]) > 0 else \"0\"\n",
    ")\n",
    "squad_df[\"answer_text\"] = squad_df.answers.apply(\n",
    "    lambda v: v[\"text\"][0] if len(v[\"text\"]) > 0 else \"\"\n",
    ")\n",
    "squad_df[\"ans_end_char_idx\"] = (\n",
    "    squad_df[\"ans_start_char_idx\"].astype(int) + squad_df[\"answer_text\"].str.len()\n",
    ")\n",
    "\n",
    "# run our modified DataFrame thru the QAPreprocessor to get the start/end \"token\" indices we want to predict\n",
    "preprocessor = QAPreprocessor(\n",
    "    hf_tokenizer,\n",
    "    id_attr=\"id\",\n",
    "    tok_kwargs={\n",
    "        \"return_overflowing_tokens\": True,\n",
    "        \"max_length\": max_seq_len,\n",
    "        \"stride\": 64,\n",
    "    },\n",
    ")\n",
    "\n",
    "proc_df = preprocessor.process_df(squad_df)\n",
    "proc_df.head(1)"
   ]
  },
  {
   "cell_type": "markdown",
   "metadata": {},
   "source": [
    "#### Define your `Blearner`"
   ]
  },
  {
   "cell_type": "code",
   "execution_count": null,
   "metadata": {},
   "outputs": [],
   "source": [
    "hf_logging.set_verbosity_error()\n",
    "\n",
    "pretrained_model_name = \"bert-large-uncased-whole-word-masking-finetuned-squad\"\n",
    "\n",
    "learn = BlearnerForQuestionAnswering.from_data(\n",
    "    proc_df,\n",
    "    pretrained_model_name,\n",
    "    id_attr=\"id\",\n",
    "    question_attr=\"proc_question\",\n",
    "    context_attr=\"proc_context\",\n",
    "    max_seq_len=128,\n",
    "    dl_kwargs={\"bs\": 4},\n",
    ").to_fp16()\n",
    "\n",
    "validation_ds = proc_df[proc_df.is_valid == True].to_dict(orient=\"records\")\n",
    "fit_cbs = [\n",
    "    QAMetricsCallback(\n",
    "        compute_metrics_func=compute_qa_metrics, validation_ds=validation_ds\n",
    "    )\n",
    "]"
   ]
  },
  {
   "cell_type": "code",
   "execution_count": null,
   "metadata": {},
   "outputs": [
    {
     "data": {
      "text/html": [
       "<table border=\"1\" class=\"dataframe\">\n",
       "  <thead>\n",
       "    <tr style=\"text-align: right;\">\n",
       "      <th></th>\n",
       "      <th>text</th>\n",
       "      <th>found</th>\n",
       "      <th>start/end</th>\n",
       "      <th>answer</th>\n",
       "    </tr>\n",
       "  </thead>\n",
       "  <tbody>\n",
       "    <tr>\n",
       "      <th>0</th>\n",
       "      <td>with what institute did notre dame agree to an exchange program in the 1960s? ism. \" thomas blantz, c. s. c., notre dame's vice president of student affairs, added that coeducation \" opened up a whole other pool of very bright students. \" two of the male residence halls were converted for the newly admitted female students that first year, while two others were converted for the next school year. in 1971 mary ann proctor became the first female undergraduate ; she transferred from st. mary's col</td>\n",
       "      <td>False</td>\n",
       "      <td>(0, 0)</td>\n",
       "      <td></td>\n",
       "    </tr>\n",
       "    <tr>\n",
       "      <th>1</th>\n",
       "      <td>what types of garments are sold by beyonce's clothing line? eon, a respected seamstress. according to tina, the overall style of the line best reflects her and beyonce's taste and style. beyonce and her mother founded their family's company beyond productions, which provides the licensing and brand management for house of dereon, and its junior collection, dereon. house of dereon pieces were exhibited in destiny's child's shows and tours, during their destiny fulfilled era. the collection featur</td>\n",
       "      <td>True</td>\n",
       "      <td>(106, 125)</td>\n",
       "      <td>sportswear, denim offerings with fur, outerwear and accessories that include handbags and footwear</td>\n",
       "    </tr>\n",
       "    <tr>\n",
       "      <th>2</th>\n",
       "      <td>what notable football player played at notre dame from 1916 to 1920? george gipp was the school's legendary football player during 1916 – 20. he played semiprofessional baseball and smoked, drank, and gambled when not playing sports. he was also humble, generous to the needy, and a man of integrity. it was in 1928 that famed coach knute rockne used his final conversation with the dying gipp to inspire the notre dame team to beat the army team and \" win one for the gipper. \" the 1940 film, knute</td>\n",
       "      <td>True</td>\n",
       "      <td>(15, 18)</td>\n",
       "      <td>george gipp</td>\n",
       "    </tr>\n",
       "    <tr>\n",
       "      <th>3</th>\n",
       "      <td>beyonce's first modelling event was at where? in september 2010, beyonce made her runway modelling debut at tom ford's spring / summer 2011 fashion show. she was named \" world's most beautiful woman \" by people and the \" hottest female singer of all time \" by complex in 2012. in january 2013, gq placed her on its cover, featuring her atop its \" 100 sexiest women of the 21st century \" list. vh1 listed her at number 1 on its 100 sexiest artists list. several wax figures of beyonce are found at mad</td>\n",
       "      <td>True</td>\n",
       "      <td>(23, 33)</td>\n",
       "      <td>tom ford's spring / summer 2011 fashion show</td>\n",
       "    </tr>\n",
       "  </tbody>\n",
       "</table>"
      ],
      "text/plain": [
       "<IPython.core.display.HTML object>"
      ]
     },
     "metadata": {},
     "output_type": "display_data"
    }
   ],
   "source": [
    "learn.dls.show_batch(dataloaders=learn.dls, max_n=4, trunc_at=500)"
   ]
  },
  {
   "cell_type": "markdown",
   "metadata": {},
   "source": [
    "#### Train"
   ]
  },
  {
   "cell_type": "code",
   "execution_count": null,
   "metadata": {},
   "outputs": [
    {
     "data": {
      "text/html": [
       "\n",
       "<style>\n",
       "    /* Turns off some styling */\n",
       "    progress {\n",
       "        /* gets rid of default border in Firefox and Opera. */\n",
       "        border: none;\n",
       "        /* Needs to be in here for Safari polyfill so background images work as expected. */\n",
       "        background-size: auto;\n",
       "    }\n",
       "    progress:not([value]), progress:not([value])::-webkit-progress-bar {\n",
       "        background: repeating-linear-gradient(45deg, #7e7e7e, #7e7e7e 10px, #5c5c5c 10px, #5c5c5c 20px);\n",
       "    }\n",
       "    .progress-bar-interrupted, .progress-bar-interrupted::-webkit-progress-bar {\n",
       "        background: #F44336;\n",
       "    }\n",
       "</style>\n"
      ],
      "text/plain": [
       "<IPython.core.display.HTML object>"
      ]
     },
     "metadata": {},
     "output_type": "display_data"
    },
    {
     "data": {
      "text/html": [
       "<table border=\"1\" class=\"dataframe\">\n",
       "  <thead>\n",
       "    <tr style=\"text-align: left;\">\n",
       "      <th>epoch</th>\n",
       "      <th>train_loss</th>\n",
       "      <th>valid_loss</th>\n",
       "      <th>exact_match</th>\n",
       "      <th>f1</th>\n",
       "      <th>time</th>\n",
       "    </tr>\n",
       "  </thead>\n",
       "  <tbody>\n",
       "    <tr>\n",
       "      <td>0</td>\n",
       "      <td>0.864185</td>\n",
       "      <td>1.243750</td>\n",
       "      <td>71.803279</td>\n",
       "      <td>77.245525</td>\n",
       "      <td>01:56</td>\n",
       "    </tr>\n",
       "    <tr>\n",
       "      <td>1</td>\n",
       "      <td>0.558980</td>\n",
       "      <td>1.031230</td>\n",
       "      <td>77.377049</td>\n",
       "      <td>83.185627</td>\n",
       "      <td>01:58</td>\n",
       "    </tr>\n",
       "    <tr>\n",
       "      <td>2</td>\n",
       "      <td>0.361602</td>\n",
       "      <td>0.989997</td>\n",
       "      <td>78.688525</td>\n",
       "      <td>85.122314</td>\n",
       "      <td>02:04</td>\n",
       "    </tr>\n",
       "  </tbody>\n",
       "</table>"
      ],
      "text/plain": [
       "<IPython.core.display.HTML object>"
      ]
     },
     "metadata": {},
     "output_type": "display_data"
    }
   ],
   "source": [
    "validation_ds = proc_df[proc_df.is_valid == True].to_dict(orient=\"records\")\n",
    "fit_cbs = [\n",
    "    QAMetricsCallback(\n",
    "        compute_metrics_func=compute_qa_metrics, validation_ds=validation_ds\n",
    "    )\n",
    "]\n",
    "\n",
    "learn.fit_one_cycle(3, lr_max=1e-3, cbs=fit_cbs)"
   ]
  },
  {
   "cell_type": "code",
   "execution_count": null,
   "metadata": {},
   "outputs": [
    {
     "data": {
      "text/html": [
       "\n",
       "<style>\n",
       "    /* Turns off some styling */\n",
       "    progress {\n",
       "        /* gets rid of default border in Firefox and Opera. */\n",
       "        border: none;\n",
       "        /* Needs to be in here for Safari polyfill so background images work as expected. */\n",
       "        background-size: auto;\n",
       "    }\n",
       "    progress:not([value]), progress:not([value])::-webkit-progress-bar {\n",
       "        background: repeating-linear-gradient(45deg, #7e7e7e, #7e7e7e 10px, #5c5c5c 10px, #5c5c5c 20px);\n",
       "    }\n",
       "    .progress-bar-interrupted, .progress-bar-interrupted::-webkit-progress-bar {\n",
       "        background: #F44336;\n",
       "    }\n",
       "</style>\n"
      ],
      "text/plain": [
       "<IPython.core.display.HTML object>"
      ]
     },
     "metadata": {},
     "output_type": "display_data"
    },
    {
     "data": {
      "text/html": [],
      "text/plain": [
       "<IPython.core.display.HTML object>"
      ]
     },
     "metadata": {},
     "output_type": "display_data"
    },
    {
     "data": {
      "text/html": [
       "<table border=\"1\" class=\"dataframe\">\n",
       "  <thead>\n",
       "    <tr style=\"text-align: right;\">\n",
       "      <th></th>\n",
       "      <th>text</th>\n",
       "      <th>found</th>\n",
       "      <th>start/end</th>\n",
       "      <th>answer</th>\n",
       "      <th>pred start/end</th>\n",
       "      <th>pred answer</th>\n",
       "    </tr>\n",
       "  </thead>\n",
       "  <tbody>\n",
       "    <tr>\n",
       "      <th>0</th>\n",
       "      <td>which nfl team represented the afc at super bowl 50? super bowl 50 was an american football game to determine the champion of the national football league ( nfl ) for the 2015 season. the american football conference ( afc ) champion denver broncos defeated the national football conference ( nfc ) champion carolina panthers 24 – 10 to earn their third super bowl title. the game was played on february 7, 2016, at levi's stadium in the san francisco bay area at santa clara, california. as this was</td>\n",
       "      <td>True</td>\n",
       "      <td>(46, 48)</td>\n",
       "      <td>denver broncos</td>\n",
       "      <td>(46, 48)</td>\n",
       "      <td>denver broncos</td>\n",
       "    </tr>\n",
       "    <tr>\n",
       "      <th>1</th>\n",
       "      <td>who was the head coach of the broncos in super bowl xlviii? for the third straight season, the number one seeds from both conferences met in the super bowl. the carolina panthers became one of only ten teams to have completed a regular season with only one loss, and one of only six teams to have acquired a 15 – 1 record, while the denver broncos became one of four teams to have made eight appearances in the super bowl. the broncos made their second super bowl appearance in three years, having re</td>\n",
       "      <td>False</td>\n",
       "      <td>(0, 0)</td>\n",
       "      <td></td>\n",
       "      <td>(0, 0)</td>\n",
       "      <td></td>\n",
       "    </tr>\n",
       "  </tbody>\n",
       "</table>"
      ],
      "text/plain": [
       "<IPython.core.display.HTML object>"
      ]
     },
     "metadata": {},
     "output_type": "display_data"
    }
   ],
   "source": [
    "learn.show_results(learner=learn, skip_special_tokens=True, max_n=2, trunc_at=500)"
   ]
  },
  {
   "cell_type": "markdown",
   "metadata": {},
   "source": [
    "#### Inference"
   ]
  },
  {
   "cell_type": "code",
   "execution_count": null,
   "metadata": {},
   "outputs": [],
   "source": [
    "learn = learn.to_fp32()\n",
    "learn.loss_func = CrossEntropyLossFlat()\n",
    "learn.export(fname=f\"{export_name}.pkl\")"
   ]
  },
  {
   "cell_type": "code",
   "execution_count": null,
   "metadata": {},
   "outputs": [
    {
     "data": {
      "text/plain": [
       "[{'answer': 'Star Wars', 'start': 21, 'end': 30, 'score': 0.9926180243492126},\n",
       " {'answer': '1977', 'start': 34, 'end': 38, 'score': 0.6034910082817078},\n",
       " {'answer': 'directed and produced',\n",
       "  'start': 43,\n",
       "  'end': 64,\n",
       "  'score': 0.19618140161037445},\n",
       " {'answer': None, 'start': 0, 'end': 0, 'score': 0.8134177327156067}]"
      ]
     },
     "execution_count": null,
     "metadata": {},
     "output_type": "execute_result"
    }
   ],
   "source": [
    "inf_learn = load_learner(fname=f\"{export_name}.pkl\")\n",
    "inf_learn.loss_func = MultiTargetLoss()\n",
    "\n",
    "context = \"George Lucas created Star Wars in 1977. He directed and produced it.\"\n",
    "\n",
    "inf_learn.blurr_predict_answers(\n",
    "    [\n",
    "        {\"question\": \"What did George Lucas make?\", \"context\": context},\n",
    "        {\"question\": \"What year did Star Wars come out?\", \"context\": context},\n",
    "        {\"question\": \"What did George Lucas do?\", \"context\": context},\n",
    "        {\"question\": \"Who plays Spock in the movie?\", \"context\": context},\n",
    "    ]\n",
    ")"
   ]
  },
  {
   "cell_type": "markdown",
   "metadata": {},
   "source": [
    "## Export -"
   ]
  },
  {
   "cell_type": "code",
   "execution_count": null,
   "metadata": {},
   "outputs": [],
   "source": [
    "# |hide\n",
    "nbdev_export()"
   ]
  },
  {
   "cell_type": "code",
   "execution_count": null,
   "metadata": {},
   "outputs": [],
   "source": []
  }
 ],
 "metadata": {
  "kernelspec": {
   "display_name": "python3",
   "language": "python",
   "name": "python3"
  }
 },
 "nbformat": 4,
 "nbformat_minor": 4
}
