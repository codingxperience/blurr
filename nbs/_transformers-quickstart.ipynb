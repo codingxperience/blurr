{
 "cells": [
  {
   "cell_type": "code",
   "execution_count": null,
   "metadata": {},
   "outputs": [],
   "source": [
    "%reload_ext autoreload\n",
    "%autoreload 2\n",
    "%matplotlib inline\n",
    "\n",
    "import sys\n",
    "\n",
    "sys.path.append(\"..\")"
   ]
  },
  {
   "cell_type": "code",
   "execution_count": null,
   "metadata": {},
   "outputs": [],
   "source": [
    "import pdb\n",
    "\n",
    "# import dill as pickle\n",
    "\n",
    "import torch\n",
    "from transformers import BertTokenizer, BertModel, BertForMaskedLM\n",
    "\n",
    "# optional\n",
    "# import logging\n",
    "# logging.basicConfig(level=logging.INFO)"
   ]
  },
  {
   "cell_type": "code",
   "execution_count": null,
   "metadata": {},
   "outputs": [
    {
     "name": "stdout",
     "output_type": "stream",
     "text": [
      "Using GPU #1\n"
     ]
    }
   ],
   "source": [
    "torch.cuda.set_device(1)\n",
    "print(f\"Using GPU #{torch.cuda.current_device()}\")"
   ]
  },
  {
   "cell_type": "markdown",
   "metadata": {},
   "source": [
    "## Utility methods"
   ]
  },
  {
   "cell_type": "code",
   "execution_count": null,
   "metadata": {},
   "outputs": [],
   "source": [
    "class Config(dict):\n",
    "    def __init__(self, **kwargs):\n",
    "        super().__init__(**kwargs)\n",
    "        for k, v in kwargs.items():\n",
    "            setattr(self, k, v)\n",
    "\n",
    "    def set(self, key, val):\n",
    "        self[key] = val\n",
    "        setattr(self, key, val)"
   ]
  },
  {
   "cell_type": "code",
   "execution_count": null,
   "metadata": {},
   "outputs": [],
   "source": [
    "def convert_to_snakecase(name):\n",
    "    s1 = re.sub(\"(.)([A-Z][a-z]+)\", r\"\\1_\\2\", name)\n",
    "    return re.sub(\"([a-z0-9])([A-Z])\", r\"\\1_\\2\", s1).lower().replace(\"__\", \"_\")"
   ]
  },
  {
   "cell_type": "markdown",
   "metadata": {},
   "source": [
    "## Quickstart"
   ]
  },
  {
   "cell_type": "markdown",
   "metadata": {},
   "source": [
    "### Bert"
   ]
  },
  {
   "cell_type": "markdown",
   "metadata": {},
   "source": [
    "Use `BertTokenizer` to tokenize/numericalize input text"
   ]
  },
  {
   "cell_type": "code",
   "execution_count": null,
   "metadata": {},
   "outputs": [],
   "source": [
    "# load pre-trained model tokenizer (vocab)\n",
    "tokenizer = BertTokenizer.from_pretrained(\"bert-base-uncased\")"
   ]
  },
  {
   "cell_type": "code",
   "execution_count": null,
   "metadata": {},
   "outputs": [
    {
     "name": "stdout",
     "output_type": "stream",
     "text": [
      "['[CLS]', 'what', 'is', 'george', 'lucas', 'famous', 'for', '?', '[SEP]', 'george', 'lucas', 'created', 'star', 'wars', '[SEP]']\n"
     ]
    }
   ],
   "source": [
    "# tokenize input\n",
    "text = (\n",
    "    \"[CLS] What is George Lucas famous for ? [SEP] George Lucas created Star Wars [SEP]\"\n",
    ")\n",
    "tokenized_text = tokenizer.tokenize(text)\n",
    "\n",
    "print(tokenized_text)"
   ]
  },
  {
   "cell_type": "code",
   "execution_count": null,
   "metadata": {},
   "outputs": [],
   "source": [
    "# mask a token to predict with `BertForMaskedLM`\n",
    "masked_idx = 9\n",
    "tokenized_text[masked_idx] = \"[MASK]\"\n",
    "\n",
    "assert tokenized_text == [\n",
    "    \"[CLS]\",\n",
    "    \"what\",\n",
    "    \"is\",\n",
    "    \"george\",\n",
    "    \"lucas\",\n",
    "    \"famous\",\n",
    "    \"for\",\n",
    "    \"?\",\n",
    "    \"[SEP]\",\n",
    "    \"[MASK]\",\n",
    "    \"lucas\",\n",
    "    \"created\",\n",
    "    \"star\",\n",
    "    \"wars\",\n",
    "    \"[SEP]\",\n",
    "]"
   ]
  },
  {
   "cell_type": "code",
   "execution_count": null,
   "metadata": {},
   "outputs": [
    {
     "name": "stdout",
     "output_type": "stream",
     "text": [
      "[101, 2054, 2003, 2577, 6326, 3297, 2005, 1029, 102, 103, 6326, 2580, 2732, 5233, 102]\n"
     ]
    }
   ],
   "source": [
    "# convert tokens to vocab idxs\n",
    "tokenized_idxs = tokenizer.convert_tokens_to_ids(tokenized_text)\n",
    "\n",
    "# define segment_ids\n",
    "segment_idxs = [0, 0, 0, 0, 0, 0, 0, 0, 0, 1, 1, 1, 1, 1, 1]\n",
    "\n",
    "print(tokenized_idxs)"
   ]
  },
  {
   "cell_type": "code",
   "execution_count": null,
   "metadata": {},
   "outputs": [],
   "source": [
    "# convert inputs to pytorch tensors\n",
    "T_tokenized_idxs = torch.tensor([tokenized_idxs])\n",
    "T_segment_idxs = torch.tensor([segment_idxs])"
   ]
  },
  {
   "cell_type": "markdown",
   "metadata": {},
   "source": [
    "Use `BertModel` to **encode our inputs in hidden-states**:"
   ]
  },
  {
   "cell_type": "code",
   "execution_count": null,
   "metadata": {},
   "outputs": [],
   "source": [
    "# load pre-trained model (weights)\n",
    "model = BertModel.from_pretrained(\"bert-base-uncased\")"
   ]
  },
  {
   "cell_type": "code",
   "execution_count": null,
   "metadata": {},
   "outputs": [],
   "source": [
    "# set model to eval (deactivates Dropout and BatchNorm)\n",
    "model = model.eval()"
   ]
  },
  {
   "cell_type": "code",
   "execution_count": null,
   "metadata": {},
   "outputs": [],
   "source": [
    "# (optional) put everything on GPU\n",
    "T_tokenized_idxs = T_tokenized_idxs.to(\"cuda\")\n",
    "T_segment_idxs = T_segment_idxs.to(\"cuda\")\n",
    "model = model.to(\"cuda\")"
   ]
  },
  {
   "cell_type": "code",
   "execution_count": null,
   "metadata": {},
   "outputs": [
    {
     "name": "stdout",
     "output_type": "stream",
     "text": [
      "torch.Size([1, 15, 768])\n"
     ]
    }
   ],
   "source": [
    "# predict hidden states features for each layer\n",
    "with torch.no_grad():\n",
    "    outputs = model(T_tokenized_idxs, token_type_ids=T_segment_idxs)\n",
    "\n",
    "    # outputs are tuples; here first element = the hidden state of the last layer of Bert model\n",
    "    encoded_layers = outputs[0]\n",
    "\n",
    "# we have encoded our input sequence in a FloatTensor (bsz, seq_len, model_hidden)\n",
    "print(encoded_layers.shape)\n",
    "\n",
    "assert tuple(encoded_layers.shape) == (1, len(tokenized_idxs), model.config.hidden_size)"
   ]
  },
  {
   "cell_type": "markdown",
   "metadata": {},
   "source": [
    "And how to use `BertForMaskedLM` to **predict a masked token**:"
   ]
  },
  {
   "cell_type": "code",
   "execution_count": null,
   "metadata": {},
   "outputs": [],
   "source": [
    "# load pre-trained model (weights)\n",
    "model = BertForMaskedLM.from_pretrained(\"bert-base-uncased\")\n",
    "model.eval()\n",
    "\n",
    "# (optional) put everything on GPU\n",
    "T_tokenized_idxs = T_tokenized_idxs.to(\"cuda\")\n",
    "T_segment_idxs = T_segment_idxs.to(\"cuda\")\n",
    "model = model.to(\"cuda\")\n",
    "\n",
    "# predict all tokens\n",
    "with torch.no_grad():\n",
    "    outputs = model(T_tokenized_idxs, token_type_ids=T_segment_idxs)\n",
    "    predictions = outputs[0]"
   ]
  },
  {
   "cell_type": "code",
   "execution_count": null,
   "metadata": {},
   "outputs": [],
   "source": [
    "predicted_idx = torch.argmax(predictions[0, masked_idx]).item()\n",
    "predicted_token = tokenizer.convert_ids_to_tokens([predicted_idx])\n",
    "\n",
    "assert predicted_token[0] == \"george\""
   ]
  },
  {
   "cell_type": "code",
   "execution_count": null,
   "metadata": {},
   "outputs": [
    {
     "data": {
      "text/plain": [
       "(2577, 'george')"
      ]
     },
     "execution_count": null,
     "metadata": {},
     "output_type": "execute_result"
    }
   ],
   "source": [
    "predicted_idx, predicted_token[0]"
   ]
  },
  {
   "cell_type": "markdown",
   "metadata": {},
   "source": [
    "### OpenAI GPT-2"
   ]
  },
  {
   "cell_type": "markdown",
   "metadata": {},
   "source": [
    "Use `GPT2Tokenizer` to tokenize text"
   ]
  },
  {
   "cell_type": "code",
   "execution_count": null,
   "metadata": {},
   "outputs": [],
   "source": [
    "import torch\n",
    "from transformers import GPT2Tokenizer, GPT2LMHeadModel"
   ]
  },
  {
   "cell_type": "code",
   "execution_count": null,
   "metadata": {},
   "outputs": [],
   "source": [
    "tokenizer = GPT2Tokenizer.from_pretrained(\"gpt2\")"
   ]
  },
  {
   "cell_type": "code",
   "execution_count": null,
   "metadata": {},
   "outputs": [
    {
     "name": "stdout",
     "output_type": "stream",
     "text": [
      "[1867, 318, 4502, 15257, 5863, 329, 5633, 4502, 15257, 2727, 2907]\n"
     ]
    }
   ],
   "source": [
    "# tokenize input\n",
    "text = \" What is George Lucas famous for ? George Lucas created Star\"\n",
    "indexed_tokens = tokenizer.encode(text)\n",
    "\n",
    "print(indexed_tokens)"
   ]
  },
  {
   "cell_type": "code",
   "execution_count": null,
   "metadata": {},
   "outputs": [],
   "source": [
    "# convert tokens to idxs\n",
    "tokens_tensor = torch.tensor([indexed_tokens])"
   ]
  },
  {
   "cell_type": "markdown",
   "metadata": {},
   "source": [
    "Use `GPT2LMHeadModel` to **predict the next token from a text prompt**"
   ]
  },
  {
   "cell_type": "code",
   "execution_count": null,
   "metadata": {},
   "outputs": [],
   "source": [
    "model = GPT2LMHeadModel.from_pretrained(\"gpt2\")\n",
    "model = model.eval()\n",
    "\n",
    "tokens_tensor = tokens_tensor.to(\"cuda\")\n",
    "model = model.to(\"cuda\")\n",
    "\n",
    "with torch.no_grad():\n",
    "    outputs = model(tokens_tensor)\n",
    "    preds = outputs[0]"
   ]
  },
  {
   "cell_type": "code",
   "execution_count": null,
   "metadata": {},
   "outputs": [
    {
     "data": {
      "text/plain": [
       "torch.Size([1, 11, 50257])"
      ]
     },
     "execution_count": null,
     "metadata": {},
     "output_type": "execute_result"
    }
   ],
   "source": [
    "preds.shape"
   ]
  },
  {
   "cell_type": "code",
   "execution_count": null,
   "metadata": {},
   "outputs": [],
   "source": [
    "# get the predicted next sub-word\n",
    "predicted_index = torch.argmax(preds[0, -1, :]).item()\n",
    "# predicted_text = tokenizer.decode(indexed_tokens + [predicted_index])"
   ]
  },
  {
   "cell_type": "code",
   "execution_count": null,
   "metadata": {},
   "outputs": [
    {
     "data": {
      "text/plain": [
       "' What is George Lucas famous for? George Lucas created Star Wars'"
      ]
     },
     "execution_count": null,
     "metadata": {},
     "output_type": "execute_result"
    }
   ],
   "source": [
    "tokenizer.decode(indexed_tokens + [predicted_index])"
   ]
  },
  {
   "cell_type": "code",
   "execution_count": null,
   "metadata": {},
   "outputs": [],
   "source": []
  }
 ],
 "metadata": {
  "kernelspec": {
   "display_name": "python3",
   "language": "python",
   "name": "python3"
  }
 },
 "nbformat": 4,
 "nbformat_minor": 2
}
